{
 "cells": [
  {
   "cell_type": "code",
   "execution_count": null,
   "metadata": {},
   "outputs": [],
   "source": [
    "from pathlib import Path\n",
    "\n",
    "import matplotlib.pyplot as plt\n",
    "import seaborn as sns\n",
    "import xarray as xr\n",
    "\n",
    "import eradiate\n",
    "\n",
    "eradiate.config.settings[\"PROGRESS\"] = \"kernel\"\n",
    "from eradiate.constants import EARTH_RADIUS\n",
    "from eradiate.scenes.surface import mesh_from_dem\n",
    "from eradiate.units import unit_registry as ureg\n",
    "\n",
    "sns.set_theme(style=\"ticks\")\n",
    "eradiate.set_mode(\"mono\")"
   ]
  },
  {
   "cell_type": "code",
   "execution_count": null,
   "metadata": {},
   "outputs": [],
   "source": [
    "# ds = xr.open_dataset(\"dem/gebco_2024/GEBCO_2024.nc\")\n",
    "ds = xr.open_dataset(\"dem/gebco_2024/gebco_2024_n50.0_s46.0_w-6.0_e0.0.nc\")\n",
    "# display(ds)\n",
    "\n",
    "lon_bounds = [-5.255643817623447, -1.854804111820785]\n",
    "lat_bounds = [46.98286701217718, 49.02004225968674]\n",
    "\n",
    "lon = ds.lon.where((ds.lon > lon_bounds[0]) & (ds.lon < lon_bounds[1])).dropna(\n",
    "    dim=\"lon\"\n",
    ")\n",
    "lat = ds.lat.where((ds.lat > lat_bounds[0]) & (ds.lat < lat_bounds[1])).dropna(\n",
    "    dim=\"lat\"\n",
    ")\n",
    "\n",
    "brittany = ds.sel(lon=lon, lat=lat)\n",
    "\n",
    "# lon_fine = np.linspace(lon.min(), lon.max(), 3333)\n",
    "# lat_fine = np.linspace(lat.min(), lat.max(), 3333)\n",
    "# brittany = brittany.interp(lon=lon_fine, lat=lat_fine)\n",
    "\n",
    "brittany.elevation.plot.imshow()\n",
    "display(brittany)"
   ]
  },
  {
   "cell_type": "markdown",
   "metadata": {},
   "source": [
    "# Plane-parallel setup"
   ]
  },
  {
   "cell_type": "code",
   "execution_count": null,
   "metadata": {},
   "outputs": [],
   "source": [
    "da = brittany.elevation.copy()\n",
    "da *= 20\n",
    "da[{\"lon\": (da.lon == da.lon.min()) | (da.lon == da.lon.max())}] = 0.0\n",
    "da[{\"lat\": (da.lat == da.lat.min()) | (da.lat == da.lat.max())}] = 0.0\n",
    "da.lon.attrs[\"units\"] = \"deg\"\n",
    "da.lat.attrs[\"units\"] = \"deg\"\n",
    "mesh, xlim, ylim = mesh_from_dem(da, geometry=\"plane_parallel\", add_texcoords=True)\n",
    "print(f\"{(xlim, ylim) = }\")\n",
    "\n",
    "if not Path(\"brittany_pp.ply\").exists():\n",
    "    mi_mesh = mesh.instance\n",
    "    mi_mesh.write_ply(\"brittany_pp.ply\")\n",
    "\n",
    "mesh_ply = eradiate.scenes.shapes.FileMeshShape(id=\"dem\", filename=\"brittany_pp.ply\")"
   ]
  },
  {
   "cell_type": "code",
   "execution_count": null,
   "metadata": {},
   "outputs": [],
   "source": [
    "exp = eradiate.experiments.DEMExperiment(\n",
    "    geometry=\"plane_parallel\",\n",
    "    illumination={\n",
    "        \"type\": \"directional\",\n",
    "        \"zenith\": 45.0,\n",
    "    },\n",
    "    atmosphere=None,\n",
    "    # atmosphere={\"type\": \"molecular\"},\n",
    "    surface={\n",
    "        \"type\": \"dem\",\n",
    "        \"construct\": \"from_mesh\",\n",
    "        \"mesh\": mesh_ply,\n",
    "        \"xlon_lim\": xlim,\n",
    "        \"ylat_lim\": ylim,\n",
    "        # \"bsdf_mesh\": {\"type\": \"lambertian\", \"reflectance\": 0.5},\n",
    "        \"bsdf_mesh\": {\"type\": \"checkerboard\"},\n",
    "        \"bsdf_background\": {\"type\": \"lambertian\", \"reflectance\": 0.3},\n",
    "    },\n",
    "    measures={\n",
    "        \"type\": \"perspective\",\n",
    "        # \"origin\": [0, -500, 100] * ureg.km,\n",
    "        \"origin\": [0, 0, 500] * ureg.km,\n",
    "        \"target\": [0, 0, 0],\n",
    "        # \"up\": [0, 0, 1],\n",
    "        \"up\": [0, 1, 0],\n",
    "        \"film_resolution\": (640, 480),\n",
    "    },\n",
    ")\n",
    "result = eradiate.run(exp)\n",
    "plt.imshow(result.radiance.squeeze(), aspect=\"equal\")\n",
    "plt.axis(\"off\")\n",
    "# plt.colorbar(shrink=0.8)\n",
    "plt.show()\n",
    "plt.close()"
   ]
  },
  {
   "cell_type": "markdown",
   "metadata": {},
   "source": [
    "# Spherical-shell setup"
   ]
  },
  {
   "cell_type": "code",
   "execution_count": null,
   "metadata": {},
   "outputs": [],
   "source": [
    "da = brittany.elevation.copy()\n",
    "da *= 20\n",
    "da[{\"lon\": (da.lon == da.lon.min()) | (da.lon == da.lon.max())}] = 0.0\n",
    "da[{\"lat\": (da.lat == da.lat.min()) | (da.lat == da.lat.max())}] = 0.0\n",
    "da.lon.attrs[\"units\"] = \"deg\"\n",
    "da.lat.attrs[\"units\"] = \"deg\"\n",
    "mesh, lonlim, latlim = mesh_from_dem(da, geometry=\"spherical_shell\", add_texcoords=True)\n",
    "\n",
    "if not Path(\"brittany_ss.ply\").exists():\n",
    "    mi_mesh = mesh.instance\n",
    "    mi_mesh.write_ply(\"brittany_ss.ply\")\n",
    "\n",
    "mesh_ply = eradiate.scenes.shapes.FileMeshShape(id=\"dem\", filename=\"brittany_ss.ply\")"
   ]
  },
  {
   "cell_type": "code",
   "execution_count": null,
   "metadata": {},
   "outputs": [],
   "source": [
    "origin = [0, 0, EARTH_RADIUS.m_as(\"km\")] * ureg.km\n",
    "\n",
    "exp = eradiate.experiments.DEMExperiment(\n",
    "    geometry=\"spherical_shell\",\n",
    "    illumination={\n",
    "        \"type\": \"directional\",\n",
    "        \"zenith\": 45.0,\n",
    "    },\n",
    "    atmosphere=None,\n",
    "    # atmosphere={\"type\": \"molecular\"},\n",
    "    surface={\n",
    "        \"type\": \"dem\",\n",
    "        \"construct\": \"from_mesh\",\n",
    "        \"geometry\": \"spherical_shell\",\n",
    "        \"mesh\": mesh_ply,\n",
    "        \"xlon_lim\": lonlim,\n",
    "        \"ylat_lim\": latlim,\n",
    "        # \"bsdf_mesh\": {\"type\": \"lambertian\", \"reflectance\": 0.5},\n",
    "        \"bsdf_mesh\": {\"type\": \"checkerboard\"},\n",
    "        \"bsdf_background\": {\"type\": \"lambertian\", \"reflectance\": 0.3},\n",
    "    },\n",
    "    measures={\n",
    "        \"type\": \"perspective\",\n",
    "        # \"origin\": origin + [0, -500, 100] * ureg.km,\n",
    "        \"origin\": origin + [0, 0, 500] * ureg.km,\n",
    "        \"target\": origin,\n",
    "        # \"up\": [0, 0, 1],\n",
    "        \"up\": [0, 1, 0],\n",
    "        \"film_resolution\": (640, 480),\n",
    "    },\n",
    ")\n",
    "result = eradiate.run(exp)\n",
    "plt.imshow(result.radiance.squeeze(), aspect=\"equal\")\n",
    "plt.axis(\"off\")\n",
    "# plt.colorbar(shrink=0.8)\n",
    "plt.show()\n",
    "plt.close()"
   ]
  }
 ],
 "metadata": {
  "kernelspec": {
   "display_name": "eradiate",
   "language": "python",
   "name": "python3"
  },
  "language_info": {
   "codemirror_mode": {
    "name": "ipython",
    "version": 3
   },
   "file_extension": ".py",
   "mimetype": "text/x-python",
   "name": "python",
   "nbconvert_exporter": "python",
   "pygments_lexer": "ipython3",
   "version": "3.9.19"
  }
 },
 "nbformat": 4,
 "nbformat_minor": 2
}
